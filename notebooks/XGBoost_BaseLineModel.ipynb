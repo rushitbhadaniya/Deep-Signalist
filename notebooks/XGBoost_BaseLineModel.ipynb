{
 "cells": [
  {
   "cell_type": "markdown",
   "id": "0609e146",
   "metadata": {},
   "source": [
    "# XGBoost BaseLine Model - Supervised ML"
   ]
  },
  {
   "cell_type": "markdown",
   "id": "88d714f3",
   "metadata": {},
   "source": [
    "We'll us XGBoost (eXtreme Gradient Boosting) for price movement prediction (Classification) using the Features and Labels we engineered."
   ]
  },
  {
   "cell_type": "markdown",
   "id": "56f50d77",
   "metadata": {},
   "source": [
    "## 1. Load Data and Select Labels"
   ]
  },
  {
   "cell_type": "code",
   "execution_count": 1,
   "id": "d2ec601f",
   "metadata": {},
   "outputs": [
    {
     "name": "stdout",
     "output_type": "stream",
     "text": [
      "Index(['Date', 'Close', 'High', 'Low', 'Open', 'Volume', 'SMA_20', 'SMA_50',\n",
      "       'EMA_12', 'EMA_26', 'RSI', 'MACD', 'Signal_Line', 'MACD_Hist',\n",
      "       'BB_Middle', 'BB_Upper', 'BB_Lower', 'OBV', 'OBV_pct_change',\n",
      "       'Volume_rolling_mean_10', 'Volume_pct_change', 'Volume_spike',\n",
      "       'Volume_zscore', 'Daily_Return', 'Log_Return', 'Next_Return',\n",
      "       'Target_Binary', 'Target_MultiClass', 'Target_Regression',\n",
      "       'Max_3D_Close', 'Target_3D'],\n",
      "      dtype='object')\n"
     ]
    }
   ],
   "source": [
    "import pandas as pd\n",
    "import numpy as np\n",
    "\n",
    "stock_data = pd.read_csv('../data/ML_data/Stryker_ML_Ready_dataset.csv',parse_dates=['Date'])\n",
    "\n",
    "print(stock_data.columns)"
   ]
  },
  {
   "cell_type": "markdown",
   "id": "4990b3d5",
   "metadata": {},
   "source": [
    "- **Price Trend Indicators**\n",
    "    - SMA_20, SMA_50 – trend-following\n",
    "\n",
    "    - EMA_12, EMA_26 – faster reaction to recent price\n",
    "\n",
    "- **Momentum & Oscillators**\n",
    "    - RSI – oversold/overbought momentum\n",
    "\n",
    "    - MACD, Signal_Line, MACD_Hist – trend reversals\n",
    "\n",
    "- **Volatility**\n",
    "    - BB_Middle, BB_Upper, BB_Lower – price envelope\n",
    "\n",
    "    - Log_Return, Daily_Return – price velocity\n",
    "\n",
    "-  **Volume-Based**\n",
    "    - OBV, OBV_pct_change – money flow\n",
    "\n",
    "    - Volume_rolling_mean_10, Volume_pct_change, Volume_spike, Volume_zscore"
   ]
  },
  {
   "cell_type": "code",
   "execution_count": 2,
   "id": "d13b02f8",
   "metadata": {},
   "outputs": [],
   "source": [
    "# Label: Binary Price Movement\n",
    "target_col = 'Target_Binary'\n",
    "\n",
    "# Drop Rows where Label is Missing\n",
    "\n",
    "stock_data = stock_data.dropna(subset=[target_col])"
   ]
  },
  {
   "cell_type": "code",
   "execution_count": 3,
   "id": "b6c92437",
   "metadata": {},
   "outputs": [
    {
     "data": {
      "text/html": [
       "<div>\n",
       "<style scoped>\n",
       "    .dataframe tbody tr th:only-of-type {\n",
       "        vertical-align: middle;\n",
       "    }\n",
       "\n",
       "    .dataframe tbody tr th {\n",
       "        vertical-align: top;\n",
       "    }\n",
       "\n",
       "    .dataframe thead th {\n",
       "        text-align: right;\n",
       "    }\n",
       "</style>\n",
       "<table border=\"1\" class=\"dataframe\">\n",
       "  <thead>\n",
       "    <tr style=\"text-align: right;\">\n",
       "      <th></th>\n",
       "      <th>Date</th>\n",
       "      <th>Close</th>\n",
       "      <th>High</th>\n",
       "      <th>Low</th>\n",
       "      <th>Open</th>\n",
       "      <th>Volume</th>\n",
       "      <th>SMA_20</th>\n",
       "      <th>SMA_50</th>\n",
       "      <th>EMA_12</th>\n",
       "      <th>EMA_26</th>\n",
       "      <th>...</th>\n",
       "      <th>Volume_spike</th>\n",
       "      <th>Volume_zscore</th>\n",
       "      <th>Daily_Return</th>\n",
       "      <th>Log_Return</th>\n",
       "      <th>Next_Return</th>\n",
       "      <th>Target_Binary</th>\n",
       "      <th>Target_MultiClass</th>\n",
       "      <th>Target_Regression</th>\n",
       "      <th>Max_3D_Close</th>\n",
       "      <th>Target_3D</th>\n",
       "    </tr>\n",
       "  </thead>\n",
       "  <tbody>\n",
       "    <tr>\n",
       "      <th>0</th>\n",
       "      <td>2023-05-22</td>\n",
       "      <td>280.647339</td>\n",
       "      <td>285.992144</td>\n",
       "      <td>280.196195</td>\n",
       "      <td>281.039613</td>\n",
       "      <td>1189700</td>\n",
       "      <td>275.318704</td>\n",
       "      <td>283.637429</td>\n",
       "      <td>280.647339</td>\n",
       "      <td>280.647339</td>\n",
       "      <td>...</td>\n",
       "      <td>False</td>\n",
       "      <td>-1.023136</td>\n",
       "      <td>-0.041968</td>\n",
       "      <td>-0.042874</td>\n",
       "      <td>-0.041968</td>\n",
       "      <td>0</td>\n",
       "      <td>-1</td>\n",
       "      <td>-0.041968</td>\n",
       "      <td>280.647339</td>\n",
       "      <td>0</td>\n",
       "    </tr>\n",
       "    <tr>\n",
       "      <th>1</th>\n",
       "      <td>2023-05-23</td>\n",
       "      <td>268.869110</td>\n",
       "      <td>279.794109</td>\n",
       "      <td>266.819448</td>\n",
       "      <td>278.862460</td>\n",
       "      <td>2163300</td>\n",
       "      <td>275.318704</td>\n",
       "      <td>283.637429</td>\n",
       "      <td>278.835304</td>\n",
       "      <td>279.774877</td>\n",
       "      <td>...</td>\n",
       "      <td>False</td>\n",
       "      <td>-1.023136</td>\n",
       "      <td>-0.041968</td>\n",
       "      <td>-0.042874</td>\n",
       "      <td>-0.005836</td>\n",
       "      <td>0</td>\n",
       "      <td>0</td>\n",
       "      <td>-0.005836</td>\n",
       "      <td>268.869110</td>\n",
       "      <td>0</td>\n",
       "    </tr>\n",
       "    <tr>\n",
       "      <th>2</th>\n",
       "      <td>2023-05-24</td>\n",
       "      <td>267.299957</td>\n",
       "      <td>269.830184</td>\n",
       "      <td>264.995303</td>\n",
       "      <td>267.731468</td>\n",
       "      <td>1181800</td>\n",
       "      <td>275.318704</td>\n",
       "      <td>283.637429</td>\n",
       "      <td>277.060635</td>\n",
       "      <td>278.850809</td>\n",
       "      <td>...</td>\n",
       "      <td>False</td>\n",
       "      <td>-1.023136</td>\n",
       "      <td>-0.005836</td>\n",
       "      <td>-0.005853</td>\n",
       "      <td>-0.000587</td>\n",
       "      <td>0</td>\n",
       "      <td>0</td>\n",
       "      <td>-0.000587</td>\n",
       "      <td>267.319611</td>\n",
       "      <td>1</td>\n",
       "    </tr>\n",
       "    <tr>\n",
       "      <th>3</th>\n",
       "      <td>2023-05-25</td>\n",
       "      <td>267.143066</td>\n",
       "      <td>268.829874</td>\n",
       "      <td>262.592627</td>\n",
       "      <td>267.790333</td>\n",
       "      <td>1159100</td>\n",
       "      <td>275.318704</td>\n",
       "      <td>283.637429</td>\n",
       "      <td>275.534855</td>\n",
       "      <td>277.983569</td>\n",
       "      <td>...</td>\n",
       "      <td>False</td>\n",
       "      <td>-1.023136</td>\n",
       "      <td>-0.000587</td>\n",
       "      <td>-0.000587</td>\n",
       "      <td>0.000661</td>\n",
       "      <td>1</td>\n",
       "      <td>0</td>\n",
       "      <td>0.000661</td>\n",
       "      <td>267.319611</td>\n",
       "      <td>1</td>\n",
       "    </tr>\n",
       "    <tr>\n",
       "      <th>4</th>\n",
       "      <td>2023-05-26</td>\n",
       "      <td>267.319611</td>\n",
       "      <td>270.526524</td>\n",
       "      <td>266.093734</td>\n",
       "      <td>267.819778</td>\n",
       "      <td>1091700</td>\n",
       "      <td>275.318704</td>\n",
       "      <td>283.637429</td>\n",
       "      <td>274.270971</td>\n",
       "      <td>277.193646</td>\n",
       "      <td>...</td>\n",
       "      <td>False</td>\n",
       "      <td>-1.023136</td>\n",
       "      <td>0.000661</td>\n",
       "      <td>0.000661</td>\n",
       "      <td>-0.003999</td>\n",
       "      <td>0</td>\n",
       "      <td>0</td>\n",
       "      <td>-0.003999</td>\n",
       "      <td>270.261780</td>\n",
       "      <td>1</td>\n",
       "    </tr>\n",
       "  </tbody>\n",
       "</table>\n",
       "<p>5 rows × 31 columns</p>\n",
       "</div>"
      ],
      "text/plain": [
       "        Date       Close        High         Low        Open   Volume  \\\n",
       "0 2023-05-22  280.647339  285.992144  280.196195  281.039613  1189700   \n",
       "1 2023-05-23  268.869110  279.794109  266.819448  278.862460  2163300   \n",
       "2 2023-05-24  267.299957  269.830184  264.995303  267.731468  1181800   \n",
       "3 2023-05-25  267.143066  268.829874  262.592627  267.790333  1159100   \n",
       "4 2023-05-26  267.319611  270.526524  266.093734  267.819778  1091700   \n",
       "\n",
       "       SMA_20      SMA_50      EMA_12      EMA_26  ...  Volume_spike  \\\n",
       "0  275.318704  283.637429  280.647339  280.647339  ...         False   \n",
       "1  275.318704  283.637429  278.835304  279.774877  ...         False   \n",
       "2  275.318704  283.637429  277.060635  278.850809  ...         False   \n",
       "3  275.318704  283.637429  275.534855  277.983569  ...         False   \n",
       "4  275.318704  283.637429  274.270971  277.193646  ...         False   \n",
       "\n",
       "   Volume_zscore  Daily_Return  Log_Return  Next_Return  Target_Binary  \\\n",
       "0      -1.023136     -0.041968   -0.042874    -0.041968              0   \n",
       "1      -1.023136     -0.041968   -0.042874    -0.005836              0   \n",
       "2      -1.023136     -0.005836   -0.005853    -0.000587              0   \n",
       "3      -1.023136     -0.000587   -0.000587     0.000661              1   \n",
       "4      -1.023136      0.000661    0.000661    -0.003999              0   \n",
       "\n",
       "   Target_MultiClass  Target_Regression  Max_3D_Close  Target_3D  \n",
       "0                 -1          -0.041968    280.647339          0  \n",
       "1                  0          -0.005836    268.869110          0  \n",
       "2                  0          -0.000587    267.319611          1  \n",
       "3                  0           0.000661    267.319611          1  \n",
       "4                  0          -0.003999    270.261780          1  \n",
       "\n",
       "[5 rows x 31 columns]"
      ]
     },
     "execution_count": 3,
     "metadata": {},
     "output_type": "execute_result"
    }
   ],
   "source": [
    "stock_data.head()"
   ]
  },
  {
   "cell_type": "markdown",
   "id": "d0b8b000",
   "metadata": {},
   "source": [
    "## 2. Define Features & Labels"
   ]
  },
  {
   "cell_type": "markdown",
   "id": "98330e34",
   "metadata": {},
   "source": [
    "XGBoost baseline model is  built using purely price- and volume-derived features (technical indicators).we are missing full 2 years of sentiment data (We're using Free NewsAPI). Sentiment Data can collect daily and can be built over the time."
   ]
  },
  {
   "cell_type": "code",
   "execution_count": 30,
   "id": "641d9360",
   "metadata": {},
   "outputs": [],
   "source": [
    "# Select Features\n",
    "baseline_features = ['SMA_20', 'SMA_50','EMA_12', 'EMA_26',\n",
    "            'RSI',\n",
    "            'MACD',\n",
    "            'OBV', \n",
    "            'Volume_rolling_mean_10', \n",
    "            'Daily_Return']\n",
    "\n",
    "X = stock_data[baseline_features]\n",
    "y = stock_data['Target_Binary']"
   ]
  },
  {
   "cell_type": "markdown",
   "id": "40e40169",
   "metadata": {},
   "source": [
    "## 3. Chronological Train/Test Split"
   ]
  },
  {
   "cell_type": "markdown",
   "id": "64a0ddde",
   "metadata": {},
   "source": [
    "We wouldn't use random splitting — we'll use time-based split to avoid leakage."
   ]
  },
  {
   "cell_type": "code",
   "execution_count": 31,
   "id": "2e447174",
   "metadata": {},
   "outputs": [],
   "source": [
    "from sklearn.model_selection import train_test_split\n",
    "\n",
    "# Sort by time\n",
    "stock_data.sort_values(by='Date' if 'Date' in stock_data.columns else stock_data.columns[0], inplace=True)\n",
    "\n",
    "split_index = int(0.8 * len(stock_data))\n",
    "X_train, X_test = X.iloc[:split_index], X.iloc[split_index:]\n",
    "y_train, y_test = y.iloc[:split_index], y.iloc[split_index:]"
   ]
  },
  {
   "cell_type": "markdown",
   "id": "fb0b2bc9",
   "metadata": {},
   "source": [
    "## 4.Train XGBoost Classifier"
   ]
  },
  {
   "cell_type": "code",
   "execution_count": 26,
   "id": "d159c330",
   "metadata": {},
   "outputs": [],
   "source": [
    "#pip install xgboost"
   ]
  },
  {
   "cell_type": "code",
   "execution_count": 32,
   "id": "8c628015",
   "metadata": {},
   "outputs": [
    {
     "name": "stdout",
     "output_type": "stream",
     "text": [
      "✅ XGBoost Model Trained\n"
     ]
    }
   ],
   "source": [
    "from xgboost import XGBClassifier\n",
    "\n",
    "model =XGBClassifier(n_estimators =100,\n",
    "                    learning_rate = 0.1,\n",
    "                    max_depth=6,\n",
    "                    random_state = 42,\n",
    "                    use_label_encoder = False,\n",
    "                    eval_metric = 'logloss')\n",
    "\n",
    "model.fit(X_train, y_train)\n",
    "print(\"✅ XGBoost Model Trained\")"
   ]
  },
  {
   "cell_type": "markdown",
   "id": "e6a1fe9d",
   "metadata": {},
   "source": [
    "## 5. Evaluate Model Performance"
   ]
  },
  {
   "cell_type": "code",
   "execution_count": 33,
   "id": "11ca3f61",
   "metadata": {},
   "outputs": [
    {
     "name": "stdout",
     "output_type": "stream",
     "text": [
      "Accuracy: 0.57\n",
      "              precision    recall  f1-score   support\n",
      "\n",
      "           0       0.55      0.65      0.60        49\n",
      "           1       0.60      0.49      0.54        51\n",
      "\n",
      "    accuracy                           0.57       100\n",
      "   macro avg       0.57      0.57      0.57       100\n",
      "weighted avg       0.57      0.57      0.57       100\n",
      "\n"
     ]
    }
   ],
   "source": [
    "from sklearn.metrics import accuracy_score, confusion_matrix ,classification_report\n",
    "import seaborn as sns\n",
    "import matplotlib.pyplot as plt\n",
    "\n",
    "y_pred = model.predict(X_test)\n",
    "\n",
    "print('Accuracy:' , accuracy_score(y_test, y_pred))\n",
    "print(classification_report(y_test,y_pred))"
   ]
  },
  {
   "cell_type": "code",
   "execution_count": 34,
   "id": "b99f3405",
   "metadata": {},
   "outputs": [
    {
     "data": {
      "image/png": "[encoded data removed]",
      "text/plain": [
       "<Figure size 640x480 with 2 Axes>"
      ]
     },
     "metadata": {},
     "output_type": "display_data"
    }
   ],
   "source": [
    "# Confusion matrix\n",
    "cm = confusion_matrix(y_test, y_pred)\n",
    "sns.heatmap(cm, annot=True, fmt=\"d\", cmap=\"Blues\", xticklabels=[\"Down\", \"Up\"], yticklabels=[\"Down\", \"Up\"])\n",
    "plt.xlabel(\"Predicted\")\n",
    "plt.ylabel(\"Actual\")\n",
    "plt.title(\"Confusion Matrix - XGBoost\")\n",
    "plt.show()"
   ]
  },
  {
   "cell_type": "markdown",
   "id": "cb731a87",
   "metadata": {},
   "source": [
    " **Summary of Results**\n",
    "| Metric                         | Value                     |\n",
    "| ------------------------------ | ------------------------- |\n",
    "| **Accuracy**                   | 0.57                      |\n",
    "| **Precision** (Class 1 - Up)   | 0.60                      |\n",
    "| **Recall** (Class 1 - Up)      | 0.49                      |\n",
    "| **F1-Score** (Class 1)         | 0.54                      |\n",
    "| **Precision** (Class 0 - Down) | 0.55                      |\n",
    "| **Recall** (Class 0 - Down)    | 0.65                      |\n",
    "| **Support**                    | Balanced (49 down, 51 up) |\n"
   ]
  },
  {
   "cell_type": "markdown",
   "id": "cc987bc9",
   "metadata": {},
   "source": [
    "**Summary of BaseLine Model**\n",
    "- Overall performance is better than random (0.50) — indicating the model is learning useful patterns from technical indicators.\n",
    "\n",
    "- The model:\n",
    "\n",
    "    - Is more precise when predicting “Up” days (fewer false positives)\n",
    "\n",
    "    - Misses some actual Up days (lower recall for class 1)\n",
    "\n",
    "    - Is slightly better at catching Down days (recall 0.65 for class 0)\n",
    "\n",
    "\n",
    "- We're using 9 technical features (SMA, EMA, MACD, RSI, OBV, volume, returns).\n",
    "\n",
    "- The model has learned to distinguish between Up and Down movements with moderate accuracy.\n",
    "\n",
    "- This is a strong baseline in finance where even 55–60% accuracy is valuable.\n",
    "\n",
    "- With some enhancements (like lagged features, sentiment, and thresholding), this can become a production-ready signal.\n",
    "\n"
   ]
  },
  {
   "cell_type": "code",
   "execution_count": null,
   "id": "6890aa22",
   "metadata": {},
   "outputs": [],
   "source": []
  }
 ],
 "metadata": {
  "kernelspec": {
   "display_name": "Transformers Env",
   "language": "python",
   "name": "transformers-env"
  },
  "language_info": {
   "codemirror_mode": {
    "name": "ipython",
    "version": 3
   },
   "file_extension": ".py",
   "mimetype": "text/x-python",
   "name": "python",
   "nbconvert_exporter": "python",
   "pygments_lexer": "ipython3",
   "version": "3.10.16"
  }
 },
 "nbformat": 4,
 "nbformat_minor": 5
}
